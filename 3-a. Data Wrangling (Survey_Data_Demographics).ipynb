{
 "cells": [
  {
   "cell_type": "code",
   "execution_count": 1,
   "id": "a46967a3-b146-4084-97e1-67aac96f358b",
   "metadata": {},
   "outputs": [],
   "source": [
    "# 1) import pandas\n",
    "\n",
    "import pandas as pd\n",
    "\n",
    "# import df from csv\n",
    "df = pd.read_csv('survey_data_demographics_not_cleaned.csv')"
   ]
  },
  {
   "cell_type": "code",
   "execution_count": 2,
   "id": "58161387-0189-4d6d-9676-f318d85c0510",
   "metadata": {},
   "outputs": [
    {
     "data": {
      "text/html": [
       "<div>\n",
       "<style scoped>\n",
       "    .dataframe tbody tr th:only-of-type {\n",
       "        vertical-align: middle;\n",
       "    }\n",
       "\n",
       "    .dataframe tbody tr th {\n",
       "        vertical-align: top;\n",
       "    }\n",
       "\n",
       "    .dataframe thead th {\n",
       "        text-align: right;\n",
       "    }\n",
       "</style>\n",
       "<table border=\"1\" class=\"dataframe\">\n",
       "  <thead>\n",
       "    <tr style=\"text-align: right;\">\n",
       "      <th></th>\n",
       "      <th>Respondent</th>\n",
       "      <th>MainBranch</th>\n",
       "      <th>Hobbyist</th>\n",
       "      <th>OpenSourcer</th>\n",
       "      <th>OpenSource</th>\n",
       "      <th>Employment</th>\n",
       "      <th>Country</th>\n",
       "      <th>Student</th>\n",
       "      <th>EdLevel</th>\n",
       "      <th>UndergradMajor</th>\n",
       "      <th>...</th>\n",
       "      <th>WelcomeChange</th>\n",
       "      <th>SONewContent</th>\n",
       "      <th>Age</th>\n",
       "      <th>Gender</th>\n",
       "      <th>Trans</th>\n",
       "      <th>Sexuality</th>\n",
       "      <th>Ethnicity</th>\n",
       "      <th>Dependents</th>\n",
       "      <th>SurveyLength</th>\n",
       "      <th>SurveyEase</th>\n",
       "    </tr>\n",
       "  </thead>\n",
       "  <tbody>\n",
       "    <tr>\n",
       "      <th>0</th>\n",
       "      <td>4</td>\n",
       "      <td>I am a developer by profession</td>\n",
       "      <td>No</td>\n",
       "      <td>Never</td>\n",
       "      <td>The quality of OSS and closed source software ...</td>\n",
       "      <td>Employed full-time</td>\n",
       "      <td>United States</td>\n",
       "      <td>No</td>\n",
       "      <td>Bachelor’s degree (BA, BS, B.Eng., etc.)</td>\n",
       "      <td>Computer science, computer engineering, or sof...</td>\n",
       "      <td>...</td>\n",
       "      <td>Just as welcome now as I felt last year</td>\n",
       "      <td>Tech articles written by other developers;Indu...</td>\n",
       "      <td>22.0</td>\n",
       "      <td>Man</td>\n",
       "      <td>No</td>\n",
       "      <td>Straight / Heterosexual</td>\n",
       "      <td>White or of European descent</td>\n",
       "      <td>No</td>\n",
       "      <td>Appropriate in length</td>\n",
       "      <td>Easy</td>\n",
       "    </tr>\n",
       "    <tr>\n",
       "      <th>1</th>\n",
       "      <td>9</td>\n",
       "      <td>I am a developer by profession</td>\n",
       "      <td>Yes</td>\n",
       "      <td>Once a month or more often</td>\n",
       "      <td>The quality of OSS and closed source software ...</td>\n",
       "      <td>Employed full-time</td>\n",
       "      <td>New Zealand</td>\n",
       "      <td>No</td>\n",
       "      <td>Some college/university study without earning ...</td>\n",
       "      <td>Computer science, computer engineering, or sof...</td>\n",
       "      <td>...</td>\n",
       "      <td>Just as welcome now as I felt last year</td>\n",
       "      <td>NaN</td>\n",
       "      <td>23.0</td>\n",
       "      <td>Man</td>\n",
       "      <td>No</td>\n",
       "      <td>Bisexual</td>\n",
       "      <td>White or of European descent</td>\n",
       "      <td>No</td>\n",
       "      <td>Appropriate in length</td>\n",
       "      <td>Neither easy nor difficult</td>\n",
       "    </tr>\n",
       "    <tr>\n",
       "      <th>2</th>\n",
       "      <td>13</td>\n",
       "      <td>I am a developer by profession</td>\n",
       "      <td>Yes</td>\n",
       "      <td>Less than once a month but more than once per ...</td>\n",
       "      <td>OSS is, on average, of HIGHER quality than pro...</td>\n",
       "      <td>Employed full-time</td>\n",
       "      <td>United States</td>\n",
       "      <td>No</td>\n",
       "      <td>Master’s degree (MA, MS, M.Eng., MBA, etc.)</td>\n",
       "      <td>Computer science, computer engineering, or sof...</td>\n",
       "      <td>...</td>\n",
       "      <td>Somewhat more welcome now than last year</td>\n",
       "      <td>Tech articles written by other developers;Cour...</td>\n",
       "      <td>28.0</td>\n",
       "      <td>Man</td>\n",
       "      <td>No</td>\n",
       "      <td>Straight / Heterosexual</td>\n",
       "      <td>White or of European descent</td>\n",
       "      <td>Yes</td>\n",
       "      <td>Appropriate in length</td>\n",
       "      <td>Easy</td>\n",
       "    </tr>\n",
       "    <tr>\n",
       "      <th>3</th>\n",
       "      <td>16</td>\n",
       "      <td>I am a developer by profession</td>\n",
       "      <td>Yes</td>\n",
       "      <td>Never</td>\n",
       "      <td>The quality of OSS and closed source software ...</td>\n",
       "      <td>Employed full-time</td>\n",
       "      <td>United Kingdom</td>\n",
       "      <td>No</td>\n",
       "      <td>Master’s degree (MA, MS, M.Eng., MBA, etc.)</td>\n",
       "      <td>NaN</td>\n",
       "      <td>...</td>\n",
       "      <td>Just as welcome now as I felt last year</td>\n",
       "      <td>Tech articles written by other developers;Indu...</td>\n",
       "      <td>26.0</td>\n",
       "      <td>Man</td>\n",
       "      <td>No</td>\n",
       "      <td>Straight / Heterosexual</td>\n",
       "      <td>White or of European descent</td>\n",
       "      <td>No</td>\n",
       "      <td>Appropriate in length</td>\n",
       "      <td>Neither easy nor difficult</td>\n",
       "    </tr>\n",
       "    <tr>\n",
       "      <th>4</th>\n",
       "      <td>17</td>\n",
       "      <td>I am a developer by profession</td>\n",
       "      <td>Yes</td>\n",
       "      <td>Less than once a month but more than once per ...</td>\n",
       "      <td>The quality of OSS and closed source software ...</td>\n",
       "      <td>Employed full-time</td>\n",
       "      <td>Australia</td>\n",
       "      <td>No</td>\n",
       "      <td>Bachelor’s degree (BA, BS, B.Eng., etc.)</td>\n",
       "      <td>Computer science, computer engineering, or sof...</td>\n",
       "      <td>...</td>\n",
       "      <td>Just as welcome now as I felt last year</td>\n",
       "      <td>Tech articles written by other developers;Indu...</td>\n",
       "      <td>29.0</td>\n",
       "      <td>Man</td>\n",
       "      <td>No</td>\n",
       "      <td>Straight / Heterosexual</td>\n",
       "      <td>Hispanic or Latino/Latina;Multiracial</td>\n",
       "      <td>No</td>\n",
       "      <td>Appropriate in length</td>\n",
       "      <td>Easy</td>\n",
       "    </tr>\n",
       "  </tbody>\n",
       "</table>\n",
       "<p>5 rows × 70 columns</p>\n",
       "</div>"
      ],
      "text/plain": [
       "   Respondent                      MainBranch Hobbyist  \\\n",
       "0           4  I am a developer by profession       No   \n",
       "1           9  I am a developer by profession      Yes   \n",
       "2          13  I am a developer by profession      Yes   \n",
       "3          16  I am a developer by profession      Yes   \n",
       "4          17  I am a developer by profession      Yes   \n",
       "\n",
       "                                         OpenSourcer  \\\n",
       "0                                              Never   \n",
       "1                         Once a month or more often   \n",
       "2  Less than once a month but more than once per ...   \n",
       "3                                              Never   \n",
       "4  Less than once a month but more than once per ...   \n",
       "\n",
       "                                          OpenSource          Employment  \\\n",
       "0  The quality of OSS and closed source software ...  Employed full-time   \n",
       "1  The quality of OSS and closed source software ...  Employed full-time   \n",
       "2  OSS is, on average, of HIGHER quality than pro...  Employed full-time   \n",
       "3  The quality of OSS and closed source software ...  Employed full-time   \n",
       "4  The quality of OSS and closed source software ...  Employed full-time   \n",
       "\n",
       "          Country Student                                            EdLevel  \\\n",
       "0   United States      No           Bachelor’s degree (BA, BS, B.Eng., etc.)   \n",
       "1     New Zealand      No  Some college/university study without earning ...   \n",
       "2   United States      No        Master’s degree (MA, MS, M.Eng., MBA, etc.)   \n",
       "3  United Kingdom      No        Master’s degree (MA, MS, M.Eng., MBA, etc.)   \n",
       "4       Australia      No           Bachelor’s degree (BA, BS, B.Eng., etc.)   \n",
       "\n",
       "                                      UndergradMajor  ...  \\\n",
       "0  Computer science, computer engineering, or sof...  ...   \n",
       "1  Computer science, computer engineering, or sof...  ...   \n",
       "2  Computer science, computer engineering, or sof...  ...   \n",
       "3                                                NaN  ...   \n",
       "4  Computer science, computer engineering, or sof...  ...   \n",
       "\n",
       "                              WelcomeChange  \\\n",
       "0   Just as welcome now as I felt last year   \n",
       "1   Just as welcome now as I felt last year   \n",
       "2  Somewhat more welcome now than last year   \n",
       "3   Just as welcome now as I felt last year   \n",
       "4   Just as welcome now as I felt last year   \n",
       "\n",
       "                                        SONewContent   Age Gender Trans  \\\n",
       "0  Tech articles written by other developers;Indu...  22.0    Man    No   \n",
       "1                                                NaN  23.0    Man    No   \n",
       "2  Tech articles written by other developers;Cour...  28.0    Man    No   \n",
       "3  Tech articles written by other developers;Indu...  26.0    Man    No   \n",
       "4  Tech articles written by other developers;Indu...  29.0    Man    No   \n",
       "\n",
       "                 Sexuality                              Ethnicity Dependents  \\\n",
       "0  Straight / Heterosexual           White or of European descent         No   \n",
       "1                 Bisexual           White or of European descent         No   \n",
       "2  Straight / Heterosexual           White or of European descent        Yes   \n",
       "3  Straight / Heterosexual           White or of European descent         No   \n",
       "4  Straight / Heterosexual  Hispanic or Latino/Latina;Multiracial         No   \n",
       "\n",
       "            SurveyLength                  SurveyEase  \n",
       "0  Appropriate in length                        Easy  \n",
       "1  Appropriate in length  Neither easy nor difficult  \n",
       "2  Appropriate in length                        Easy  \n",
       "3  Appropriate in length  Neither easy nor difficult  \n",
       "4  Appropriate in length                        Easy  \n",
       "\n",
       "[5 rows x 70 columns]"
      ]
     },
     "execution_count": 2,
     "metadata": {},
     "output_type": "execute_result"
    }
   ],
   "source": [
    "# 2) Display the top 5 rows and columns from your dataset\n",
    "\n",
    "df.head()"
   ]
  },
  {
   "cell_type": "code",
   "execution_count": 3,
   "id": "592f8370-a75e-4faf-9012-b447efc8b74f",
   "metadata": {},
   "outputs": [
    {
     "name": "stdout",
     "output_type": "stream",
     "text": [
      "11398\n",
      "70\n"
     ]
    }
   ],
   "source": [
    "# 3) Print the number of rows in the dataset\n",
    "\n",
    "print(df.shape[0])\n",
    "\n",
    "# Print the number of columns in the dataset\n",
    "\n",
    "print(df.shape[1])"
   ]
  },
  {
   "cell_type": "code",
   "execution_count": 4,
   "id": "79264355-e73a-45ba-b463-b0a192ab2efb",
   "metadata": {
    "scrolled": true
   },
   "outputs": [
    {
     "name": "stdout",
     "output_type": "stream",
     "text": [
      "<class 'pandas.core.frame.DataFrame'>\n",
      "RangeIndex: 11398 entries, 0 to 11397\n",
      "Data columns (total 70 columns):\n",
      " #   Column          Non-Null Count  Dtype  \n",
      "---  ------          --------------  -----  \n",
      " 0   Respondent      11398 non-null  int64  \n",
      " 1   MainBranch      11398 non-null  object \n",
      " 2   Hobbyist        11398 non-null  object \n",
      " 3   OpenSourcer     11398 non-null  object \n",
      " 4   OpenSource      11317 non-null  object \n",
      " 5   Employment      11398 non-null  object \n",
      " 6   Country         11398 non-null  object \n",
      " 7   Student         11347 non-null  object \n",
      " 8   EdLevel         11286 non-null  object \n",
      " 9   UndergradMajor  10661 non-null  object \n",
      " 10  EduOther        11234 non-null  object \n",
      " 11  OrgSize         11302 non-null  object \n",
      " 12  DevType         11333 non-null  object \n",
      " 13  YearsCode       11389 non-null  object \n",
      " 14  Age1stCode      11385 non-null  object \n",
      " 15  YearsCodePro    11382 non-null  object \n",
      " 16  CareerSat       11398 non-null  object \n",
      " 17  JobSat          11397 non-null  object \n",
      " 18  MgrIdiot        10905 non-null  object \n",
      " 19  MgrMoney        10901 non-null  object \n",
      " 20  MgrWant         10905 non-null  object \n",
      " 21  JobSeek         11398 non-null  object \n",
      " 22  LastHireDate    11398 non-null  object \n",
      " 23  LastInt         10985 non-null  object \n",
      " 24  FizzBuzz        11361 non-null  object \n",
      " 25  JobFactors      11395 non-null  object \n",
      " 26  ResumeUpdate    11359 non-null  object \n",
      " 27  CurrencySymbol  11398 non-null  object \n",
      " 28  CurrencyDesc    11398 non-null  object \n",
      " 29  CompTotal       10589 non-null  float64\n",
      " 30  CompFreq        11192 non-null  object \n",
      " 31  ConvertedComp   10582 non-null  float64\n",
      " 32  WorkWeekHrs     11276 non-null  float64\n",
      " 33  WorkPlan        11277 non-null  object \n",
      " 34  WorkChallenge   11234 non-null  object \n",
      " 35  WorkRemote      11390 non-null  object \n",
      " 36  WorkLoc         11366 non-null  object \n",
      " 37  ImpSyn          11393 non-null  object \n",
      " 38  CodeRev         11397 non-null  object \n",
      " 39  CodeRevHrs      8972 non-null   float64\n",
      " 40  UnitTests       11369 non-null  object \n",
      " 41  PurchaseHow     11202 non-null  object \n",
      " 42  PurchaseWhat    11360 non-null  object \n",
      " 43  BetterLife      11300 non-null  object \n",
      " 44  ITperson        11363 non-null  object \n",
      " 45  OffOn           11360 non-null  object \n",
      " 46  SocialMedia     11105 non-null  object \n",
      " 47  Extraversion    11378 non-null  object \n",
      " 48  ScreenName      10891 non-null  object \n",
      " 49  SOVisit1st      11073 non-null  object \n",
      " 50  SOVisitFreq     11393 non-null  object \n",
      " 51  SOVisitTo       11397 non-null  object \n",
      " 52  SOFindAnswer    11395 non-null  object \n",
      " 53  SOTimeSaved     11348 non-null  object \n",
      " 54  SOHowMuchTime   9481 non-null   object \n",
      " 55  SOAccount       11397 non-null  object \n",
      " 56  SOPartFreq      10270 non-null  object \n",
      " 57  SOJobs          11392 non-null  object \n",
      " 58  EntTeams        11393 non-null  object \n",
      " 59  SOComm          11398 non-null  object \n",
      " 60  WelcomeChange   11313 non-null  object \n",
      " 61  SONewContent    9433 non-null   object \n",
      " 62  Age             11111 non-null  float64\n",
      " 63  Gender          11325 non-null  object \n",
      " 64  Trans           11275 non-null  object \n",
      " 65  Sexuality       10856 non-null  object \n",
      " 66  Ethnicity       10723 non-null  object \n",
      " 67  Dependents      11258 non-null  object \n",
      " 68  SurveyLength    11379 non-null  object \n",
      " 69  SurveyEase      11384 non-null  object \n",
      "dtypes: float64(5), int64(1), object(64)\n",
      "memory usage: 6.1+ MB\n"
     ]
    }
   ],
   "source": [
    "# 4) Print info of the data set\n",
    "df.info()"
   ]
  },
  {
   "cell_type": "code",
   "execution_count": 5,
   "id": "007ad64e-f843-400c-8b7d-342d53f3543c",
   "metadata": {},
   "outputs": [
    {
     "data": {
      "text/plain": [
       "11398"
      ]
     },
     "execution_count": 5,
     "metadata": {},
     "output_type": "execute_result"
    }
   ],
   "source": [
    "# 5) remove empty rows (only nan) and reset index\n",
    "\n",
    "df = df.dropna(how = 'all').reset_index(drop = True)\n",
    "df.shape[0]"
   ]
  },
  {
   "cell_type": "code",
   "execution_count": 6,
   "id": "b3e24a06-ce7b-4a2c-bed9-cc248bbb6c00",
   "metadata": {},
   "outputs": [
    {
     "data": {
      "text/plain": [
       "0"
      ]
     },
     "execution_count": 6,
     "metadata": {},
     "output_type": "execute_result"
    }
   ],
   "source": [
    "# 6) find duplicates\n",
    "\n",
    "df[df.duplicated()].shape[0]"
   ]
  },
  {
   "cell_type": "code",
   "execution_count": 7,
   "id": "a6959e09-afea-41b8-a6c1-bf312a57729c",
   "metadata": {},
   "outputs": [],
   "source": [
    "# remove duplicates\n",
    "\n",
    "# df = df.drop_duplicates()"
   ]
  },
  {
   "cell_type": "code",
   "execution_count": 8,
   "id": "fc0a3360-42cc-4ef9-9bbe-a4114bf04dc9",
   "metadata": {},
   "outputs": [
    {
     "name": "stdout",
     "output_type": "stream",
     "text": [
      "OpenSource : 81 , 0.71 %\n",
      "Student : 51 , 0.45 %\n",
      "EdLevel : 112 , 0.98 %\n",
      "UndergradMajor : 737 , 6.47 %\n",
      "EduOther : 164 , 1.44 %\n",
      "OrgSize : 96 , 0.84 %\n",
      "DevType : 65 , 0.57 %\n",
      "YearsCode : 9 , 0.08 %\n",
      "Age1stCode : 13 , 0.11 %\n",
      "YearsCodePro : 16 , 0.14 %\n",
      "JobSat : 1 , 0.01 %\n",
      "MgrIdiot : 493 , 4.33 %\n",
      "MgrMoney : 497 , 4.36 %\n",
      "MgrWant : 493 , 4.33 %\n",
      "LastInt : 413 , 3.62 %\n",
      "FizzBuzz : 37 , 0.32 %\n",
      "JobFactors : 3 , 0.03 %\n",
      "ResumeUpdate : 39 , 0.34 %\n",
      "CompTotal : 809 , 7.1 %\n",
      "CompFreq : 206 , 1.81 %\n",
      "ConvertedComp : 816 , 7.16 %\n",
      "WorkWeekHrs : 122 , 1.07 %\n",
      "WorkPlan : 121 , 1.06 %\n",
      "WorkChallenge : 164 , 1.44 %\n",
      "WorkRemote : 8 , 0.07 %\n",
      "WorkLoc : 32 , 0.28 %\n",
      "ImpSyn : 5 , 0.04 %\n",
      "CodeRev : 1 , 0.01 %\n",
      "CodeRevHrs : 2426 , 21.28 %\n",
      "UnitTests : 29 , 0.25 %\n",
      "PurchaseHow : 196 , 1.72 %\n",
      "PurchaseWhat : 38 , 0.33 %\n",
      "BetterLife : 98 , 0.86 %\n",
      "ITperson : 35 , 0.31 %\n",
      "OffOn : 38 , 0.33 %\n",
      "SocialMedia : 293 , 2.57 %\n",
      "Extraversion : 20 , 0.18 %\n",
      "ScreenName : 507 , 4.45 %\n",
      "SOVisit1st : 325 , 2.85 %\n",
      "SOVisitFreq : 5 , 0.04 %\n",
      "SOVisitTo : 1 , 0.01 %\n",
      "SOFindAnswer : 3 , 0.03 %\n",
      "SOTimeSaved : 50 , 0.44 %\n",
      "SOHowMuchTime : 1917 , 16.82 %\n",
      "SOAccount : 1 , 0.01 %\n",
      "SOPartFreq : 1128 , 9.9 %\n",
      "SOJobs : 6 , 0.05 %\n",
      "EntTeams : 5 , 0.04 %\n",
      "WelcomeChange : 85 , 0.75 %\n",
      "SONewContent : 1965 , 17.24 %\n",
      "Age : 287 , 2.52 %\n",
      "Gender : 73 , 0.64 %\n",
      "Trans : 123 , 1.08 %\n",
      "Sexuality : 542 , 4.76 %\n",
      "Ethnicity : 675 , 5.92 %\n",
      "Dependents : 140 , 1.23 %\n",
      "SurveyLength : 19 , 0.17 %\n",
      "SurveyEase : 14 , 0.12 %\n"
     ]
    }
   ],
   "source": [
    "# 7) find null in dataset\n",
    "\n",
    "if df.isna().sum().sum():\n",
    "    for column in df.columns:\n",
    "        if df[column].isna().sum() > 0:\n",
    "            count_null = df[column].isna().sum()\n",
    "            percent_null = round(count_null/df.shape[0]*100,2)\n",
    "            print(column, \":\", count_null, \",\", percent_null,\"%\")\n",
    "else:\n",
    "    print(\"the dataset has not null values\")"
   ]
  },
  {
   "cell_type": "code",
   "execution_count": 9,
   "id": "d9b39309-42c9-4090-ad72-10a78fbefd15",
   "metadata": {},
   "outputs": [],
   "source": [
    "# 8) Impute NaN values with the mean for the 'Age' column because si symmetric column\n",
    "\n",
    "df['Age'] = df['Age'].fillna(df['Age'].mean())\n",
    "\n",
    "# Impute NaN values with the median for the other columns\n",
    "df['CompTotal'] = df['CompTotal'].fillna(df['CompTotal'].median())\n",
    "df['ConvertedComp'] = df['ConvertedComp'].fillna(df['ConvertedComp'].median())\n",
    "df['WorkWeekHrs'] = df['WorkWeekHrs'].fillna(df['WorkWeekHrs'].median())\n",
    "df['CodeRevHrs'] = df['CodeRevHrs'].fillna(df['CodeRevHrs'].median())"
   ]
  },
  {
   "cell_type": "code",
   "execution_count": 10,
   "id": "533cd8dc-5557-4ddb-b517-5880b19830ce",
   "metadata": {},
   "outputs": [],
   "source": [
    "# 9) convert data type of some columns of type 'float64'\n",
    "df[['CompTotal','ConvertedComp','WorkWeekHrs','CodeRevHrs','Age']] = df[['CompTotal','ConvertedComp','WorkWeekHrs','CodeRevHrs','Age']].astype(int)"
   ]
  },
  {
   "cell_type": "code",
   "execution_count": 11,
   "id": "0d974fbb-aaa4-457b-8290-fb18e9306c47",
   "metadata": {},
   "outputs": [
    {
     "data": {
      "text/plain": [
       "array(['Yearly', 'Monthly', 'Weekly', nan], dtype=object)"
      ]
     },
     "execution_count": 11,
     "metadata": {},
     "output_type": "execute_result"
    }
   ],
   "source": [
    "# 10) List out the various categories in the column 'CompFreq'\n",
    "\n",
    "df['CompFreq'].unique()"
   ]
  },
  {
   "cell_type": "code",
   "execution_count": 12,
   "id": "cce14056-7fe9-4c00-8738-be98ed3191ad",
   "metadata": {
    "scrolled": true
   },
   "outputs": [],
   "source": [
    "# 11) create a new column which contains the 'Annual Compensation' irrespective of the 'CompFreq'.\n",
    "\n",
    "def normalize_annual_compensation(row):\n",
    "    if row['CompFreq'] == 'Yearly':\n",
    "        return row['CompTotal']\n",
    "    elif row['CompFreq'] == 'Monthly':\n",
    "        return row['CompTotal'] * 12\n",
    "    elif row['CompFreq'] == 'Weekly':\n",
    "        return row['CompTotal'] * 52\n",
    "    else:\n",
    "        return 0\n",
    "\n",
    "df['NormalizedAnnualCompensation'] = df.apply(normalize_annual_compensation, axis = 1)"
   ]
  },
  {
   "cell_type": "code",
   "execution_count": 13,
   "id": "b008cb5e-dda0-4dd7-a3c7-0f867567368b",
   "metadata": {},
   "outputs": [
    {
     "name": "stdout",
     "output_type": "stream",
     "text": [
      "      CompFreq  CompTotal  NormalizedAnnualCompensation\n",
      "6438    Yearly      90000                         90000\n",
      "8865    Yearly      76000                         76000\n",
      "6240    Yearly     600000                        600000\n",
      "8862   Monthly      45000                        540000\n",
      "10060   Yearly     900000                        900000\n",
      "5462    Yearly      62000                         62000\n",
      "7100   Monthly   10000000                     120000000\n",
      "1765    Yearly      54000                         54000\n",
      "9812    Yearly      32000                         32000\n",
      "3563    Yearly      90000                         90000\n"
     ]
    }
   ],
   "source": [
    "# 12) verify comparison of the totals between columns\n",
    "print(df[['CompFreq', 'CompTotal', 'NormalizedAnnualCompensation']].sample(10))"
   ]
  },
  {
   "cell_type": "code",
   "execution_count": 14,
   "id": "470e2134-257e-46d4-b3b6-907db23f42e3",
   "metadata": {},
   "outputs": [
    {
     "name": "stdout",
     "output_type": "stream",
     "text": [
      "number of the Countries present in the world wide survey is: 135\n"
     ]
    }
   ],
   "source": [
    "# 13) print distinct countries which there are in the \"Country\" column\n",
    "\n",
    "print(\"number of the Countries present in the world wide survey is:\",\n",
    "      df.Country.nunique())"
   ]
  },
  {
   "cell_type": "code",
   "execution_count": 16,
   "id": "fdd4c414-2c5c-492c-8d07-119b22d28949",
   "metadata": {},
   "outputs": [],
   "source": [
    "# 14) Save the cleaned data into a csv file\n",
    "\n",
    "df.to_csv('Survey_Data_Demographics.csv', index = False)"
   ]
  }
 ],
 "metadata": {
  "kernelspec": {
   "display_name": "Python 3 (ipykernel)",
   "language": "python",
   "name": "python3"
  },
  "language_info": {
   "codemirror_mode": {
    "name": "ipython",
    "version": 3
   },
   "file_extension": ".py",
   "mimetype": "text/x-python",
   "name": "python",
   "nbconvert_exporter": "python",
   "pygments_lexer": "ipython3",
   "version": "3.12.7"
  }
 },
 "nbformat": 4,
 "nbformat_minor": 5
}

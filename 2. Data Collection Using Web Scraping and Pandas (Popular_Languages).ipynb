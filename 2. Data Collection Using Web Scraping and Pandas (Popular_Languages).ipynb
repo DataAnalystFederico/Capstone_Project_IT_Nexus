{
 "cells": [
  {
   "cell_type": "code",
   "execution_count": 1,
   "id": "b05f8b4b-1ff3-4ebe-bbdf-202f64e8a2fd",
   "metadata": {},
   "outputs": [],
   "source": [
    "# 1) extracting the data from the below web site\n",
    "\n",
    "url = \"https://cf-courses-data.s3.us.cloud-object-storage.appdomain.cloud/IBM-DA0321EN-SkillsNetwork/labs/datasets/Programming_Languages.html\""
   ]
  },
  {
   "cell_type": "code",
   "execution_count": 2,
   "id": "c58e79df-4b75-4401-923d-12c98bfd12cb",
   "metadata": {},
   "outputs": [],
   "source": [
    "# 2) importing the required libraries\n",
    "\n",
    "from bs4 import BeautifulSoup\n",
    "import requests"
   ]
  },
  {
   "cell_type": "code",
   "execution_count": 3,
   "id": "8cd15d88-00ad-4b7a-9976-db2ec20e2b69",
   "metadata": {},
   "outputs": [],
   "source": [
    "# 2) downloading the webpage at the url\n",
    "\n",
    "r = requests.get(url).text"
   ]
  },
  {
   "cell_type": "code",
   "execution_count": 4,
   "id": "e0d9dba3-562b-4dbe-a0f0-3a4dbee9f1c6",
   "metadata": {},
   "outputs": [],
   "source": [
    "# 3) creating a soup object using the BeautifulSoup class to access all the contents of r\n",
    "\n",
    "soup = BeautifulSoup(r, \"html.parser\")"
   ]
  },
  {
   "cell_type": "code",
   "execution_count": 5,
   "id": "b8fd4dab-cd88-45cc-a90c-90bca852ae17",
   "metadata": {},
   "outputs": [
    {
     "name": "stdout",
     "output_type": "stream",
     "text": [
      "['Language', 'Python', 'Java', 'R', 'Javascript', 'Swift', 'C++', 'C#', 'PHP', 'SQL', 'Go']\n",
      "['Average Annual Salary', '$114,383', '$101,013', '$92,037', '$110,981', '$130,801', '$113,865', '$88,726', '$84,727', '$84,793', '$94,082']\n"
     ]
    }
   ],
   "source": [
    "# 4) scraping the Language name and annual average salary\n",
    "\n",
    "table = soup.find(\"table\") # #find a html table in the web page, tag <table>\n",
    "\n",
    "Language = [] # empty list\n",
    "AverageAnnualSalary = [] # ...\n",
    "\n",
    "for row in table.find_all(\"tr\"): # in html table the row is represented by the tag <tr>\n",
    "    columns = row.find_all(\"td\") # # in html table the column is represented by the tag <td>\n",
    "    language_name = columns[1].getText() # store the value in column 2 as language_name\n",
    "    average_salary = columns[3].getText() # store the value in column 4 as average_salary\n",
    "    Language.append(language_name) # appending values of language_name in Language list\n",
    "    AverageAnnualSalary.append(average_salary) # appending values of average_salary in AverageAnnualSalary\n",
    "    \n",
    "print(Language) \n",
    "print(AverageAnnualSalary)"
   ]
  },
  {
   "cell_type": "code",
   "execution_count": 6,
   "id": "78b32a14-451b-4d2c-b9d7-6ea3bbcf1247",
   "metadata": {},
   "outputs": [],
   "source": [
    "# 5) import pandas\n",
    "\n",
    "import pandas as pd\n",
    "\n",
    "df = pd.DataFrame(columns = [\"Language\", \"Average Annual Salary\"]) # create df with columns \"Language\", \"Average Annual Salary\"\n",
    "\n",
    "df[\"Language\"] = Language # store values in Language column from Language list\n",
    "df[\"Average Annual Salary\"] = AverageAnnualSalary # store values in Average Annual Salary column from AverageAnnualSalary list"
   ]
  },
  {
   "cell_type": "code",
   "execution_count": 7,
   "id": "2358c47c-3a66-4826-b675-37cfeb62c773",
   "metadata": {},
   "outputs": [],
   "source": [
    "# 6) Remove first row of DataFrame and reindex the DataFrame by deleting the previous index.\n",
    "df = df.iloc[1:].reset_index(drop = True)"
   ]
  },
  {
   "cell_type": "code",
   "execution_count": 8,
   "id": "5d76ae0a-5f02-4b84-90dc-c42ba217b0f1",
   "metadata": {},
   "outputs": [
    {
     "data": {
      "text/html": [
       "<div>\n",
       "<style scoped>\n",
       "    .dataframe tbody tr th:only-of-type {\n",
       "        vertical-align: middle;\n",
       "    }\n",
       "\n",
       "    .dataframe tbody tr th {\n",
       "        vertical-align: top;\n",
       "    }\n",
       "\n",
       "    .dataframe thead th {\n",
       "        text-align: right;\n",
       "    }\n",
       "</style>\n",
       "<table border=\"1\" class=\"dataframe\">\n",
       "  <thead>\n",
       "    <tr style=\"text-align: right;\">\n",
       "      <th></th>\n",
       "      <th>Language</th>\n",
       "      <th>Average Annual Salary</th>\n",
       "    </tr>\n",
       "  </thead>\n",
       "  <tbody>\n",
       "    <tr>\n",
       "      <th>0</th>\n",
       "      <td>Python</td>\n",
       "      <td>$114,383</td>\n",
       "    </tr>\n",
       "    <tr>\n",
       "      <th>1</th>\n",
       "      <td>Java</td>\n",
       "      <td>$101,013</td>\n",
       "    </tr>\n",
       "    <tr>\n",
       "      <th>2</th>\n",
       "      <td>R</td>\n",
       "      <td>$92,037</td>\n",
       "    </tr>\n",
       "    <tr>\n",
       "      <th>3</th>\n",
       "      <td>Javascript</td>\n",
       "      <td>$110,981</td>\n",
       "    </tr>\n",
       "    <tr>\n",
       "      <th>4</th>\n",
       "      <td>Swift</td>\n",
       "      <td>$130,801</td>\n",
       "    </tr>\n",
       "    <tr>\n",
       "      <th>5</th>\n",
       "      <td>C++</td>\n",
       "      <td>$113,865</td>\n",
       "    </tr>\n",
       "    <tr>\n",
       "      <th>6</th>\n",
       "      <td>C#</td>\n",
       "      <td>$88,726</td>\n",
       "    </tr>\n",
       "    <tr>\n",
       "      <th>7</th>\n",
       "      <td>PHP</td>\n",
       "      <td>$84,727</td>\n",
       "    </tr>\n",
       "    <tr>\n",
       "      <th>8</th>\n",
       "      <td>SQL</td>\n",
       "      <td>$84,793</td>\n",
       "    </tr>\n",
       "    <tr>\n",
       "      <th>9</th>\n",
       "      <td>Go</td>\n",
       "      <td>$94,082</td>\n",
       "    </tr>\n",
       "  </tbody>\n",
       "</table>\n",
       "</div>"
      ],
      "text/plain": [
       "     Language Average Annual Salary\n",
       "0      Python              $114,383\n",
       "1        Java              $101,013\n",
       "2           R               $92,037\n",
       "3  Javascript              $110,981\n",
       "4       Swift              $130,801\n",
       "5         C++              $113,865\n",
       "6          C#               $88,726\n",
       "7         PHP               $84,727\n",
       "8         SQL               $84,793\n",
       "9          Go               $94,082"
      ]
     },
     "execution_count": 8,
     "metadata": {},
     "output_type": "execute_result"
    }
   ],
   "source": [
    "df"
   ]
  },
  {
   "cell_type": "code",
   "execution_count": 10,
   "id": "51e2e2f7-41a0-4d24-9adf-decf5327ba53",
   "metadata": {},
   "outputs": [],
   "source": [
    "# 7) Save the scrapped data into a csv file\n",
    "\n",
    "df.to_csv(\"Popular_Languages.csv\", index = False)"
   ]
  }
 ],
 "metadata": {
  "kernelspec": {
   "display_name": "Python 3 (ipykernel)",
   "language": "python",
   "name": "python3"
  },
  "language_info": {
   "codemirror_mode": {
    "name": "ipython",
    "version": 3
   },
   "file_extension": ".py",
   "mimetype": "text/x-python",
   "name": "python",
   "nbconvert_exporter": "python",
   "pygments_lexer": "ipython3",
   "version": "3.12.7"
  }
 },
 "nbformat": 4,
 "nbformat_minor": 5
}
